{
 "cells": [
  {
   "cell_type": "code",
   "execution_count": null,
   "metadata": {
    "collapsed": true
   },
   "outputs": [],
   "source": [
    "import pandas as pd\n",
    "import numpy as np\n",
    "import matplotlib.pyplot as plt\n",
    "import matplotlib.animation as animate\n",
    "import matplotlib.style as style\n",
    "from scipy.optimize import fsolve\n",
    "import math"
   ]
  },
  {
   "cell_type": "code",
   "execution_count": null,
   "metadata": {
    "collapsed": true
   },
   "outputs": [],
   "source": [
    "df1=pd.read_csv(\"mid1.csv\",skiprows=1)\n",
    "\n",
    "\n",
    " cell=735001\n",
    " i=0\n",
    " mid1_total=[]\n",
    " mid1_per=[]\n",
    " rows,columns=df1.shape\n",
    " while i< (columns-1):\n",
    "  c=df1[str(cell)].mean()*len(df1[str(cell)])\n",
    "  mid1_total.append(c)\n",
    "  mid1_per.append(c*100/120)\n",
    "  cell=cell+1;\n",
    "  i=i+1"
   ]
  },
  {
   "cell_type": "code",
   "execution_count": null,
   "metadata": {
    "collapsed": true
   },
   "outputs": [],
   "source": [
    " \n",
    "\n",
    " cell=735001\n",
    " i=0\n",
    " while i< (columns-1):\n",
    "  x=df1[str(cell)]\n",
    "  y=df1[\"SUBJECTS\"]\n",
    "  plot=plt.bar(y,x,color=\"green\",width=0.5)\n",
    "  plt.plot([],[],color=\"green\",label=\"Satisfactory\")\n",
    "  plt.plot([],[],color=\"red\",label=\"Work hard\")\n",
    "  j=0;\n",
    "  while j<rows:\n",
    "    if df1.loc[j,str(cell)]<8:\n",
    "      plot[j].set_color(\"red\")\n",
    "    else:\n",
    "      plot[j].set_color(\"green\")\n",
    "    j=j+1\n",
    "  plt.yticks([0,2,4,6,8,10,12,14,16,18,20,22,24])\n",
    "  plt.title(\"STUDENT MID-1 MARKS DETAILS\\nCHECK IT OUT\\nRoll number : \"+ str(cell))\n",
    "  plt.legend()\n",
    "  #plt.show()\n",
    "  cell=cell+1;\n",
    "  i=i+1"
   ]
  },
  {
   "cell_type": "code",
   "execution_count": null,
   "metadata": {
    "collapsed": true
   },
   "outputs": [],
   "source": [
    "row,col=df1.shape\n",
    "j=0\n",
    "while j<row:\n",
    " y=df1.loc[j,\"735001\":\"735060\"]\n",
    " x=[]\n",
    " i=1\n",
    " while i<=col-1:\n",
    "     x.append(i)\n",
    "     i=i+1\n",
    " plot=plt.bar(x,y,width=0.5)\n",
    " plt.plot([],[],color=\"green\",label=\"ABOVE 8 ( >= 8)\")\n",
    " plt.plot([],[],color=\"red\",label=\"BELOW 8 ( < 8)\")\n",
    " i=0\n",
    " cell=735001\n",
    " while i<col-1:\n",
    "     if df1.loc[j,str(cell)]<8:\n",
    "       plot[i].set_color(\"red\")\n",
    "     else:\n",
    "       plot[i].set_color(\"green\")\n",
    "     i=i+1\n",
    "     cell=cell+1\n",
    " plt.yticks([0,2,4,6,8,10,12,14,16,18,20,22,24])\n",
    " plt.xticks([0,5,10,15,20,25,30,35,40,45,50,55,60])\n",
    " plt.xlabel(\"rollno\")\n",
    " plt.ylabel(\"marks\")\n",
    " plt.title(\"STUDENT'S MID-1 PERFORMANCE IN : \"+df1.loc[j,'SUBJECTS']+\"\\n CHECK IT OUT\"+\"\\n ROLL-NO=735-0__\")\n",
    " plt.legend()\n",
    " #plt.show()\n",
    " j=j+1\n",
    " "
   ]
  },
  {
   "cell_type": "code",
   "execution_count": null,
   "metadata": {
    "collapsed": true
   },
   "outputs": [],
   "source": [
    "df2=pd.read_csv(\"mid2.csv\",skiprows=1)\n",
    "\n",
    "\n",
    " cell=735001\n",
    " i=0\n",
    " mid2_total=[]\n",
    " mid2_per=[]\n",
    " rows,columns=df2.shape\n",
    " while i< (columns-1):\n",
    "  c=df2[str(cell)].mean()*len(df2[str(cell)])\n",
    "  mid2_total.append(c)\n",
    "  mid2_per.append(c*100/120)\n",
    "  cell=cell+1\n",
    "  i=i+1"
   ]
  },
  {
   "cell_type": "code",
   "execution_count": null,
   "metadata": {
    "collapsed": true
   },
   "outputs": [],
   "source": [
    " cell=735001\n",
    " i=0\n",
    " while i<(columns-1):\n",
    "  x=df2[str(cell)]\n",
    "  y=df2[\"SUBJECTS\"]\n",
    "  plot=plt.bar(y,x,color=\"green\",width=0.5)\n",
    "  plt.plot([],[],color=\"green\",label=\"satisfactory\")\n",
    "  plt.plot([],[],color=\"red\",label=\"Work hard\")\n",
    "  j=0;\n",
    "  while j<rows:\n",
    "    if df2.loc[j,str(cell)]<8:\n",
    "      plot[j].set_color(\"red\")\n",
    "    else:\n",
    "      plot[j].set_color(\"green\")\n",
    "    j=j+1\n",
    "  plt.yticks([0,2,4,6,8,10,12,14,16,18,20,22,24])\n",
    "  plt.title(\"STUDENT MID-2 MARKS DETAILS\\nCHECK IT OUT\\nRoll number : \"+ str(cell))\n",
    "  plt.legend()\n",
    "  #plt.show()\n",
    "  cell=cell+1;\n",
    "  i=i+1"
   ]
  },
  {
   "cell_type": "code",
   "execution_count": null,
   "metadata": {
    "collapsed": true
   },
   "outputs": [],
   "source": [
    "row,col=df2.shape\n",
    "j=0\n",
    "while j<row:\n",
    " y=df2.loc[j,\"735001\":\"735060\"]\n",
    " x=[]\n",
    " i=1\n",
    " while i<=col-1:\n",
    "     x.append(i)\n",
    "     i=i+1\n",
    " plot=plt.bar(x,y,width=0.5)\n",
    " plt.plot([],[],color=\"green\",label=\"ABOVE 8 ( >= 8)\")\n",
    " plt.plot([],[],color=\"red\",label=\"BELOW 8 ( < 8)\")\n",
    " i=0\n",
    " cell=735001\n",
    " while i<col-1:\n",
    "     if df2.loc[j,str(cell)]<8:\n",
    "       plot[i].set_color(\"red\")\n",
    "     else:\n",
    "       plot[i].set_color(\"green\")\n",
    "     i=i+1\n",
    "     cell=cell+1\n",
    " plt.yticks([0,2,4,6,8,10,12,14,16,18,20,22,24])\n",
    " plt.xticks([0,5,10,15,20,25,30,35,40,45,50,55,60])\n",
    " plt.xlabel(\"rollno\")\n",
    " plt.ylabel(\"marks\")\n",
    " plt.title(\"STUDENT'S PERFORMANCE IN MID-2 : \"+df1.loc[j,'SUBJECTS']+\"\\n CHECK IT OUT\"+\"\\n ROLL-NO=735-0__\")\n",
    " plt.legend()\n",
    " #plt.show()\n",
    " j=j+1"
   ]
  },
  {
   "cell_type": "code",
   "execution_count": null,
   "metadata": {
    "collapsed": true
   },
   "outputs": [],
   "source": [
    "df3=pd.read_csv(\"sliptest1.csv\",skiprows=1)\n",
    "\n",
    "\n",
    "df3=pd.read_csv(\"sliptest1.csv\",skiprows=1)\n",
    "\n",
    "\n",
    " cell=735001\n",
    " i=0\n",
    " sliptest1_total=[]\n",
    " sliptest1_per=[]\n",
    " rows,columns=df3.shape\n",
    " while i< (columns-1):\n",
    "  c=df3[str(cell)].mean()*len(df3[str(cell)])\n",
    "  sliptest1_total.append(c)\n",
    "  sliptest1_per.append(c*100/60)\n",
    "  cell=cell+1;\n",
    "  i=i+1\n",
    "\n",
    " cell=735001\n",
    " i=0\n",
    " while i< (columns-1):\n",
    "  x=df3[str(cell)]\n",
    "  y=df3[\"SUBJECTS\"]\n",
    "  plot=plt.bar(y,x,color=\"green\",width=0.5)\n",
    "  plt.plot([],[],color=\"green\",label=\"satisfactory\")\n",
    "  plt.plot([],[],color=\"red\",label=\"Work hard\") \n",
    "  j=0;\n",
    "  while j<rows:\n",
    "    if df3.loc[j,str(cell)]<4:\n",
    "      plot[j].set_color(\"red\")\n",
    "    else:\n",
    "      plot[j].set_color(\"green\")\n",
    "    j=j+1\n",
    "  plt.yticks([0,1,2,3,4,5,6,7,8,9,10,11,12])\n",
    "  plt.title(\"STUDENT SLIPTEST-1 MARKS DETAILS\\nCHECK IT OUT\\nRoll number : \"+ str(cell))\n",
    "  plt.legend()\n",
    "  #plt.show()\n",
    "  cell=cell+1;\n",
    "  i=i+1"
   ]
  },
  {
   "cell_type": "code",
   "execution_count": null,
   "metadata": {
    "collapsed": true
   },
   "outputs": [],
   "source": [
    "row,col=df3.shape\n",
    "j=0\n",
    "while j<row:\n",
    " y=df3.loc[j,\"735001\":\"735060\"]\n",
    " x=[]\n",
    " i=1\n",
    " while i<=col-1:\n",
    "     x.append(i)\n",
    "     i=i+1\n",
    " plot=plt.bar(x,y,width=0.5)\n",
    " plt.plot([],[],color=\"green\",label=\"ABOVE 4 ( >= 4)\")\n",
    " plt.plot([],[],color=\"red\",label=\"BELOW 4 ( < 4)\")\n",
    " i=0\n",
    " cell=735001\n",
    " while i<col-1:\n",
    "     if df3.loc[j,str(cell)]<4:\n",
    "       plot[i].set_color(\"red\")\n",
    "     else:\n",
    "       plot[i].set_color(\"green\")\n",
    "     i=i+1\n",
    "     cell=cell+1\n",
    " plt.yticks([0,1,2,3,4,5,6,7,8,9,10,11,12])\n",
    " plt.xticks([0,5,10,15,20,25,30,35,40,45,50,55,60])\n",
    " plt.xlabel(\"rollno\")\n",
    " plt.ylabel(\"marks\")\n",
    " plt.title(\"STUDENT'S PERFORMANCE IN SLIPTEST1: \"+df1.loc[j,'SUBJECTS']+\"\\n CHECK IT OUT\"+\"\\n ROLL-NO=735-0__\")\n",
    " plt.legend()\n",
    " #plt.show()\n",
    " j=j+1"
   ]
  },
  {
   "cell_type": "code",
   "execution_count": null,
   "metadata": {
    "collapsed": true
   },
   "outputs": [],
   "source": [
    "df4=pd.read_csv(\"sliptest2.csv\",skiprows=1)\n",
    "\n",
    "\n",
    " cell=735001\n",
    " i=0\n",
    " sliptest2_total=[]\n",
    " sliptest2_per=[]\n",
    " rows,columns=df4.shape\n",
    " while i< (columns-1):\n",
    "  c=df4[str(cell)].mean()*len(df4[str(cell)])\n",
    "  sliptest2_total.append(c)\n",
    "  sliptest2_per.append(c*100/60)\n",
    "  cell=cell+1;\n",
    "  i=i+1\n",
    "\n",
    " cell=735001\n",
    " i=0\n",
    " while i< (columns-1):\n",
    "  x=df4[str(cell)]\n",
    "  y=df4[\"SUBJECTS\"]\n",
    "  plot=plt.bar(y,x,color=\"green\",width=0.5)\n",
    "  plt.plot([],[],color=\"green\",label=\"satisfactory\")\n",
    "  plt.plot([],[],color=\"red\",label=\"Work hard\")\n",
    "  j=0;\n",
    "  while j<rows:\n",
    "    if df4.loc[j,str(cell)]<4:\n",
    "      plot[j].set_color(\"red\")\n",
    "    else:\n",
    "      plot[j].set_color(\"green\")\n",
    "    j=j+1\n",
    "  plt.yticks([0,1,2,3,4,5,6,7,8,9,10,11,12])\n",
    "  plt.title(\"STUDENT SLIPTEST-2 MARKS DETAILS\\nCHECK IT OUT\\nRoll number : \"+ str(cell))\n",
    "  plt.legend()\n",
    "  #plt.show()\n",
    "  cell=cell+1;\n",
    "  i=i+1"
   ]
  },
  {
   "cell_type": "code",
   "execution_count": null,
   "metadata": {
    "collapsed": true
   },
   "outputs": [],
   "source": [
    "row,col=df4.shape\n",
    "j=0\n",
    "while j<row:\n",
    " y=df4.loc[j,\"735001\":\"735060\"]\n",
    " x=[]\n",
    " i=1\n",
    " while i<=col-1:\n",
    "     x.append(i)\n",
    "     i=i+1\n",
    " plot=plt.bar(x,y,width=0.5)\n",
    " plt.plot([],[],color=\"green\",label=\"ABOVE 4 ( >= 4)\")\n",
    " plt.plot([],[],color=\"red\",label=\"BELOW 4 ( < 4)\")\n",
    " i=0\n",
    " cell=735001\n",
    " while i<col-1:\n",
    "     if df4.loc[j,str(cell)]<4:\n",
    "       plot[i].set_color(\"red\")\n",
    "     else:\n",
    "       plot[i].set_color(\"green\")\n",
    "     i=i+1\n",
    "     cell=cell+1\n",
    " plt.yticks([0,1,2,3,4,5,6,7,8,9,10,11,12])\n",
    " plt.xticks([0,5,10,15,20,25,30,35,40,45,50,55,60])\n",
    " plt.xlabel(\"rollno\")\n",
    " plt.ylabel(\"marks\")\n",
    " plt.title(\"STUDENT'S PERFORMANCE IN SLIPTEST-2: \"+df1.loc[j,'SUBJECTS']+\"\\n CHECK IT OUT\"+\"\\n ROLL-NO=735-0__\")\n",
    " plt.legend()\n",
    " #plt.show()\n",
    " j=j+1"
   ]
  },
  {
   "cell_type": "code",
   "execution_count": null,
   "metadata": {
    "collapsed": true
   },
   "outputs": [],
   "source": [
    "cell=735001\n",
    "Rno=[]\n",
    "i=0\n",
    "while i<60:\n",
    "    Rno.append(cell)\n",
    "    i=i+1\n",
    "    cell=cell+1\n",
    "\n",
    "total={\"Rollno\":Rno,'mid1_marks':mid1_total,'mid2_marks':mid2_total,'sliptest1_marks':sliptest1_total,\n",
    "       'sliptest2_marks':sliptest2_total,'mid1_per':mid1_per,'mid2_per':mid2_per,'sliptest1_per':sliptest1_per,\n",
    "       'sliptest2_per':sliptest2_per}\n",
    "pd.DataFrame(total).to_csv(\"IT1-Total.csv\",index=False)\n",
    "df5=pd.read_csv(\"IT1-Total.csv\")\n",
    "\n",
    "Avg_per=[]\n",
    "rows,cols=df5.shape\n",
    "i=0\n",
    "while i<rows:\n",
    "    Avg_per.append((df5.loc[i][2]+df5.loc[i][4]+df5.loc[i][6]+df5.loc[i][8])/4)\n",
    "    i=i+1"
   ]
  },
  {
   "cell_type": "code",
   "execution_count": null,
   "metadata": {
    "collapsed": true
   },
   "outputs": [],
   "source": [
    "def linear_regression(x,y,n,y_at):\n",
    "    k=0\n",
    "    xy=[]\n",
    "    squr_x=[]\n",
    "    sum_squr_x=[]\n",
    "    sum_xy=[]\n",
    "    while k<n:\n",
    "        xy.append(x[k]*y[k])\n",
    "        squr_x.append(x[k]*x[k])\n",
    "        k=k+1\n",
    "    sum_x=sum(x)\n",
    "    sum_y=sum(y)\n",
    "    sum_squr_x=sum(squr_x)\n",
    "    sum_xy=sum(xy)\n",
    "    def equations(p):\n",
    "        i,j=p\n",
    "        return(n*i+j*sum_x-sum_y,i*sum_x+j*sum_squr_x-sum_xy)\n",
    "    a,b=fsolve(equations,(0,0))\n",
    "    return(a+b*y_at)"
   ]
  },
  {
   "cell_type": "code",
   "execution_count": null,
   "metadata": {
    "collapsed": true
   },
   "outputs": [],
   "source": [
    "Pred_final=[]\n",
    "rows,cols=df5.shape\n",
    "i=0\n",
    "while i<rows:\n",
    "    Pred_final.append(linear_regression([1,2,3,4],[df5.loc[i][2],df5.loc[i][4],df5.loc[i][6],df5.loc[i][8]],4,5))\n",
    "    i=i+1"
   ]
  },
  {
   "cell_type": "code",
   "execution_count": null,
   "metadata": {
    "collapsed": true
   },
   "outputs": [],
   "source": [
    "Comp=[]\n",
    "Daa=[]\n",
    "Dc=[]\n",
    "Ee=[]\n",
    "Fds=[]\n",
    "Java=[]\n",
    "j=1\n",
    "while j<=60:\n",
    "    Comp.append(linear_regression([1,2,3,4],[5*df1.loc[0][j],5*df2.loc[0][j],10*df3.loc[0][j],10*df4.loc[0][j]],4,5))\n",
    "    j=j+1\n",
    "j=1\n",
    "while j<=60:\n",
    "    Daa.append(linear_regression([1,2,3,4],[5*df1.loc[1][j],5*df2.loc[1][j],10*df3.loc[1][j],10*df4.loc[1][j]],4,5))\n",
    "    j=j+1\n",
    "j=1\n",
    "while j<=60:\n",
    "    Dc.append(linear_regression([1,2,3,4],[5*df1.loc[2][j],5*df2.loc[2][j],10*df3.loc[2][j],10*df4.loc[2][j]],4,5))\n",
    "    j=j+1\n",
    "j=1\n",
    "while j<=60:\n",
    "    Ee.append(linear_regression([1,2,3,4],[5*df1.loc[3][j],5*df2.loc[3][j],10*df3.loc[3][j],10*df4.loc[3][j]],4,5))\n",
    "    j=j+1\n",
    "j=1\n",
    "while j<=60:\n",
    "    Fds.append(linear_regression([1,2,3,4],[5*df1.loc[4][j],5*df2.loc[4][j],10*df3.loc[4][j],10*df4.loc[4][j]],4,5))\n",
    "    j=j+1\n",
    "j=1\n",
    "while j<=60:\n",
    "    Java.append(linear_regression([1,2,3,4],[5*df1.loc[5][j],5*df2.loc[5][j],10*df3.loc[5][j],10*df4.loc[5][j]],4,5))\n",
    "    j=j+1\n",
    "\n",
    "Pred_marks={'Comp':Comp,'Daa':Daa,'Dc':Dc,'Eea':Ee,'Fds':Fds,'Java':Java}\n",
    "pd.DataFrame(Pred_marks).to_csv(\"IT1-PredTotal.csv\",index=False)"
   ]
  },
  {
   "cell_type": "code",
   "execution_count": null,
   "metadata": {
    "collapsed": true
   },
   "outputs": [],
   "source": [
    "df6=pd.read_csv(\"IT1-PredTotal.csv\")\n",
    "\n",
    " rows,columns=df6.shape\n",
    " cell=735001\n",
    " SUBJECTS=[\"Comp\",\"Daa\",\"Dc\",\"Eea\",\"Fds\",\"Java\"]\n",
    " i=0\n",
    " while i< (rows-1):\n",
    "  x=df6.loc[i]\n",
    "  y=SUBJECTS\n",
    "  plot=plt.bar(y,x,color=\"green\",width=0.5)\n",
    "  plt.plot([],[],color=\"green\",label=\"satisfactory\")\n",
    "  plt.plot([],[],color=\"red\",label=\"Work hard\")\n",
    "  j=0;\n",
    "  while j<columns:\n",
    "    if df6.loc[i,SUBJECTS[j]]<40:\n",
    "      plot[j].set_color(\"red\")\n",
    "    else:\n",
    "      plot[j].set_color(\"green\")\n",
    "    j=j+1\n",
    "  plt.yticks([0,10,20,30,40,50,60,70,80,90,100,110,120])\n",
    "  plt.title(\"STUDENT PREDICTED MARKS DETAILS\\nCHECK IT OUT\\nRoll number : \"+ str(cell))\n",
    "  plt.legend()\n",
    "  plt.show()\n",
    "  cell=cell+1;\n",
    "  i=i+1"
   ]
  },
  {
   "cell_type": "code",
   "execution_count": null,
   "metadata": {
    "collapsed": true
   },
   "outputs": [],
   "source": [
    "i=0\n",
    "cell=735001\n",
    "#x=[\"sliptest1\",\"sliptest2\",\"mid1\",\"mid2\",\"final\"]\n",
    "x=['1.Sliptest1',\"2.Mid1\",\"3.Sliptest2\",\"4.Mid2\",\"5.Final\"]\n",
    "while i<60:\n",
    "    y=[df5.loc[i][6],df5.loc[i][2],df5.loc[i][8],df5.loc[i][4],Pred_final[i]]\n",
    "    plt.plot(x,y,marker='o', markerfacecolor='red',color='green')\n",
    "    plt.legend()\n",
    "    plt.title(\"STUDENT FINAL PREDICTED %'S DETAILS\\nCHECK IT OUT\\nRoll number : \"+ str(cell))\n",
    "    plt.yticks([0,10,20,30,40,50,60,70,80,90,100])\n",
    "    plt.ylabel('<--------Percentages : %\\'s-------->')\n",
    "    plt.xlabel(\"Roll no : \" + str(cell))\n",
    "    plt.grid()\n",
    "    plt.show()\n",
    "    cell=cell+1\n",
    "    i=i+1"
   ]
  },
  {
   "cell_type": "code",
   "execution_count": null,
   "metadata": {
    "collapsed": true
   },
   "outputs": [],
   "source": [
    "row,col=df6.shape\n",
    "j=0\n",
    "while j<col:\n",
    " if(j==0):\n",
    "    y=Comp\n",
    " if(j==1):\n",
    "    y=Daa\n",
    " if(j==2):\n",
    "    y=Dc\n",
    " if(j==3):\n",
    "    y=Ee\n",
    " if(j==4):\n",
    "    y=Fds\n",
    " if(j==5):\n",
    "    y=Java\n",
    " x=[]\n",
    " i=1\n",
    " while i<=row:\n",
    "     x.append(i)\n",
    "     i=i+1\n",
    " plot=plt.bar(x,y,width=0.5)\n",
    " plt.plot([],[],color=\"green\",label=\"ABOVE 40 ( >= 40)\")\n",
    " plt.plot([],[],color=\"red\",label=\"BELOW 40 ( < 40)\")"
   ]
  },
  {
   "cell_type": "code",
   "execution_count": 30,
   "metadata": {
    "collapsed": true
   },
   "outputs": [],
   "source": [
    " i=0\n",
    " while i<row:\n",
    "     if df6.loc[i][j]<40:\n",
    "       plot[i].set_color(\"red\")\n",
    "     else:\n",
    "       plot[i].set_color(\"green\")\n",
    "     i=i+1\n",
    " plt.yticks([10,20,30,40,50,60,70,80,90,100,110,120])\n",
    " plt.xticks([0,5,10,15,20,25,30,35,40,45,50,55,60])\n",
    " plt.xlabel(\"rollno's\")\n",
    " plt.ylabel(\"marks\")\n",
    " plt.title(\"PREDICTED STUDENT'S PERFORMANCE IN FINAL : \"+df1.loc[j,'SUBJECTS']+\"\\n CHECK IT OUT\")\n",
    " plt.legend()\n",
    " plt.show()\n",
    " j=j+1"
   ]
  },
  {
   "cell_type": "code",
   "execution_count": 4,
   "metadata": {
    "collapsed": true
   },
   "outputs": [],
   "source": [
    "from scipy.optimize import fsolve\n",
    "import math\n",
    "def linear_regression(x,y,n):\n",
    "    k=0\n",
    "    xy=[]\n",
    "    squr_x=[]\n",
    "    sum_squr_x=[]\n",
    "    sum_xy=[]\n",
    "    while k<n:\n",
    "        xy.append(x[k]*y[k])\n",
    "        squr_x.append(x[k]*x[k])\n",
    "        k=k+1\n",
    "    sum_x=sum(x)\n",
    "    sum_y=sum(y)\n",
    "    sum_squr_x=sum(squr_x)\n",
    "    sum_xy=sum(xy)\n",
    "    def equations(p):\n",
    "        i,j=p\n",
    "        return(n*i+j*sum_x-sum_y,i*sum_x+j*sum_squr_x-sum_xy)\n",
    "    a,b=fsolve(equations,(0,0))\n",
    "    return a,b\n"
   ]
  },
  {
   "cell_type": "code",
   "execution_count": 5,
   "metadata": {},
   "outputs": [
    {
     "name": "stdout",
     "output_type": "stream",
     "text": [
      "-2973.28813559 168.347457627\n"
     ]
    }
   ],
   "source": [
    "i=[1,2,2,3,3,4,5,6,6,6,8,10]\n",
    "j=[-890,-1411,-1560,-2220,-2091,-2878,-3537,-3268,-3920,-4163,-5471,5157]\n",
    "a,d=linear_regression(i,j,12)\n",
    "print(a,d)"
   ]
  },
  {
   "cell_type": "code",
   "execution_count": null,
   "metadata": {
    "collapsed": true
   },
   "outputs": [],
   "source": []
  }
 ],
 "metadata": {
  "kernelspec": {
   "display_name": "Python 3",
   "language": "python",
   "name": "python3"
  },
  "language_info": {
   "codemirror_mode": {
    "name": "ipython",
    "version": 3
   },
   "file_extension": ".py",
   "mimetype": "text/x-python",
   "name": "python",
   "nbconvert_exporter": "python",
   "pygments_lexer": "ipython3",
   "version": "3.6.3"
  }
 },
 "nbformat": 4,
 "nbformat_minor": 2
}
